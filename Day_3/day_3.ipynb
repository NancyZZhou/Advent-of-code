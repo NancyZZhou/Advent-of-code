{
 "cells": [
  {
   "cell_type": "code",
   "execution_count": null,
   "metadata": {},
   "outputs": [],
   "source": [
    "import pandas as pd\n",
    "import string\n",
    "import numpy as np"
   ]
  },
  {
   "cell_type": "code",
   "execution_count": null,
   "metadata": {},
   "outputs": [],
   "source": [
    "with open('input.txt', 'r') as f:\n",
    "    data = f.read().split('\\n')\n",
    "\n",
    "# Part 1\n",
    "\n",
    "item_both = pd.DataFrame({'rucksack':\n",
    "    [set(rucksack[0:int(len(rucksack)/2)]).intersection(set(rucksack[int(len(rucksack)/2):])).pop() for rucksack in data]\n",
    "    }\n",
    "    )\n",
    "\n",
    "letter_value = list(range(1, 53))\n",
    "letters = dict(zip(list(string.ascii_letters), letter_value))\n",
    "\n",
    "item_both['value'] = item_both['rucksack'].map(letters)\n",
    "print(sum(item_both['value']))"
   ]
  },
  {
   "cell_type": "code",
   "execution_count": null,
   "metadata": {},
   "outputs": [],
   "source": [
    "# Part 2\n",
    "group_elements = 3\n",
    "data_group = np.array_split(np.array(data), len(data)/group_elements)\n",
    "\n",
    "group_badge = pd.DataFrame({'badge': [set(group[0]).intersection(set(group[1])).intersection(set(group[2])).pop() for group in data_group]})\n",
    "group_badge['value'] = group_badge['badge'].map(letters)\n",
    "print(group_badge['value'].sum())"
   ]
  }
 ],
 "metadata": {
  "kernelspec": {
   "display_name": "Python 3 (ipykernel)",
   "language": "python",
   "name": "python3"
  },
  "language_info": {
   "codemirror_mode": {
    "name": "ipython",
    "version": 3
   },
   "file_extension": ".py",
   "mimetype": "text/x-python",
   "name": "python",
   "nbconvert_exporter": "python",
   "pygments_lexer": "ipython3",
   "version": "3.9.9"
  },
  "vscode": {
   "interpreter": {
    "hash": "8d1eba3de07c4d2c90bfb7a6f231c9a7644a58be532b59c6b0503a93be23229d"
   }
  }
 },
 "nbformat": 4,
 "nbformat_minor": 4
}
