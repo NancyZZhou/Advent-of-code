{
 "cells": [
  {
   "cell_type": "code",
   "execution_count": null,
   "metadata": {},
   "outputs": [],
   "source": [
    "import pandas as pd\n",
    "\n",
    "data = pd.read_csv('input.txt', header=None, delim_whitespace=True, names=['opponent', 'me'])\n",
    "\n",
    "data['score_game_1'] = data.apply(lambda x: game_1(x['opponent'], x['me']), axis=1)\n",
    "print(sum(data['score_game_1']))\n",
    "\n",
    "data['score_game_2'] = data.apply(lambda x: game_2(x['opponent'], x['me']), axis=1)\n",
    "print(sum(data['score_game_2']))"
   ]
  },
  {
   "cell_type": "code",
   "execution_count": null,
   "metadata": {},
   "outputs": [],
   "source": [
    "def game_1(a, b):\n",
    "    if a == 'A':\n",
    "        if b == 'X':\n",
    "            return 1 + 3\n",
    "        elif b == 'Y':\n",
    "            return 2 + 6\n",
    "        else:\n",
    "            return 3 + 0\n",
    "    elif a == 'B':\n",
    "        if b == 'Y':\n",
    "            return 2 + 3\n",
    "        elif b == 'Z':\n",
    "            return 3 + 6\n",
    "        else:\n",
    "            return 1 + 0\n",
    "    else:\n",
    "        if b == 'Z':\n",
    "            return 3 + 3\n",
    "        elif b == 'X':\n",
    "            return 1 + 6\n",
    "        else:\n",
    "            return 2 + 0"
   ]
  },
  {
   "cell_type": "code",
   "execution_count": null,
   "metadata": {},
   "outputs": [],
   "source": [
    "def game_2(a, b):\n",
    "    if a == 'A':\n",
    "        if b == 'X':\n",
    "            return 3 + 0\n",
    "        elif b == 'Y':\n",
    "            return 1 + 3\n",
    "        else:\n",
    "            return 2 + 6\n",
    "    elif a == 'B':\n",
    "        if b == 'Y':\n",
    "            return 2 + 3\n",
    "        elif b == 'Z':\n",
    "            return 3 + 6\n",
    "        else:\n",
    "            return 1 + 0\n",
    "    else:\n",
    "        if b == 'Z':\n",
    "            return 1 + 6\n",
    "        elif b == 'X':\n",
    "            return 2 + 0\n",
    "        else:\n",
    "            return 3 + 3"
   ]
  },
  {
   "cell_type": "code",
   "execution_count": null,
   "metadata": {},
   "outputs": [],
   "source": []
  }
 ],
 "metadata": {
  "kernelspec": {
   "display_name": "Python 3 (ipykernel)",
   "language": "python",
   "name": "python3"
  },
  "language_info": {
   "codemirror_mode": {
    "name": "ipython",
    "version": 3
   },
   "file_extension": ".py",
   "mimetype": "text/x-python",
   "name": "python",
   "nbconvert_exporter": "python",
   "pygments_lexer": "ipython3",
   "version": "3.9.9"
  },
  "vscode": {
   "interpreter": {
    "hash": "8d1eba3de07c4d2c90bfb7a6f231c9a7644a58be532b59c6b0503a93be23229d"
   }
  }
 },
 "nbformat": 4,
 "nbformat_minor": 4
}
