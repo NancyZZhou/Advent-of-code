{
 "cells": [
  {
   "cell_type": "code",
   "execution_count": null,
   "metadata": {},
   "outputs": [],
   "source": [
    "import numpy as np\n",
    "\n",
    "with open('input.txt', 'r') as f:\n",
    "    data = f.read().replace('\\n', ',').split(',,')\n",
    "\n",
    "calories = np.array(list(sum(list(map(int, elf.split(',')))) for elf in data))\n",
    "\n",
    "print(calories[calories.argmax()])"
   ]
  }
 ],
 "metadata": {
  "kernelspec": {
   "display_name": "Python 3 (ipykernel)",
   "language": "python",
   "name": "python3"
  },
  "language_info": {
   "codemirror_mode": {
    "name": "ipython",
    "version": 3
   },
   "file_extension": ".py",
   "mimetype": "text/x-python",
   "name": "python",
   "nbconvert_exporter": "python",
   "pygments_lexer": "ipython3",
   "version": "3.9.9"
  },
  "vscode": {
   "interpreter": {
    "hash": "ac79dd074354c512a681115d804e327d99fa3cf40f4773e0d5f9ed42d35e4552"
   }
  }
 },
 "nbformat": 4,
 "nbformat_minor": 4
}
